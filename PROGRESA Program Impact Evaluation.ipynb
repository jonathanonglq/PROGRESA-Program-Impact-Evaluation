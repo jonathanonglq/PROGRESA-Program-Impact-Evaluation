{
 "cells": [
  {
   "cell_type": "markdown",
   "metadata": {},
   "source": [
    "# PROGRESA Proram Impact Evaluation"
   ]
  },
  {
   "cell_type": "markdown",
   "metadata": {},
   "source": [
    "## Introduction to Project\n",
    "\n",
    "The goal of this project is to implement some basic econometric techniques to measure the impact of Progresa on secondary school enrollment rates. The timeline of the program was:\n",
    "\n",
    " * Baseline survey conducted in 1997\n",
    " * Intervention begins in 1998, \"Wave 1\" of data collected in 1998\n",
    " * \"Wave 2 of data\" collected in 1999\n",
    " * Evaluation ends in 2000, at which point the control villages were treated. \n",
    " \n",
    "| Variable name | Description|\n",
    "|------|------|\n",
    "|year\t  |year in which data is collected\n",
    "|sex\t  |male = 1|\n",
    "|indig\t  |indigenous = 1|\n",
    "|dist_sec |nearest distance to a secondary school|\n",
    "|sc\t      |enrolled in school in year of survey|\n",
    "|grc      |grade enrolled|\n",
    "|fam_n    |family size|\n",
    "|min_dist |\tmin distance to an urban center|\n",
    "|dist_cap |\tmin distance to the capital|\n",
    "|poor     |\tpoor = 1|\n",
    "|progresa |treatment =1|\n",
    "|hohedu\t  |years of schooling of head of household|\n",
    "|hohwag\t  |monthly wages of head of household|\n",
    "|welfare_index|\twelfare index used to classify poor|\n",
    "|hohsex\t|gender of head of household (male=1)|\n",
    "|hohage\t|age of head of household|\n",
    "|age\t|years old|\n",
    "|folnum\t|individual id|\n",
    "|village|\tvillage id|\n",
    "|sc97\t|schooling in 1997|"
   ]
  },
  {
   "cell_type": "markdown",
   "metadata": {},
   "source": [
    "---\n",
    "\n",
    "## Part 1: Descriptive analysis\n",
    "\n",
    "### 1.1\tSummary Statistics\n",
    "\n",
   ]
  },
  {
   "cell_type": "code",
   "execution_count": 1,
   "metadata": {
    "scrolled": true
   },
   "outputs": [
    {
     "data": {
      "text/html": [
       "<div>\n",
       "<style scoped>\n",
       "    .dataframe tbody tr th:only-of-type {\n",
       "        vertical-align: middle;\n",
       "    }\n",
       "\n",
       "    .dataframe tbody tr th {\n",
       "        vertical-align: top;\n",
       "    }\n",
       "\n",
       "    .dataframe thead th {\n",
       "        text-align: right;\n",
       "    }\n",
       "</style>\n",
       "<table border=\"1\" class=\"dataframe\">\n",
       "  <thead>\n",
       "    <tr style=\"text-align: right;\">\n",
       "      <th></th>\n",
       "      <th>mean</th>\n",
       "      <th>standard deviation</th>\n",
       "    </tr>\n",
       "  </thead>\n",
       "  <tbody>\n",
       "    <tr>\n",
       "      <th>age</th>\n",
       "      <td>11.366460</td>\n",
       "      <td>3.167744</td>\n",
       "    </tr>\n",
       "    <tr>\n",
       "      <th>dist_cap</th>\n",
       "      <td>147.674452</td>\n",
       "      <td>76.063134</td>\n",
       "    </tr>\n",
       "    <tr>\n",
       "      <th>dist_sec</th>\n",
       "      <td>2.418910</td>\n",
       "      <td>2.234109</td>\n",
       "    </tr>\n",
       "    <tr>\n",
       "      <th>fam_n</th>\n",
       "      <td>7.215715</td>\n",
       "      <td>2.352900</td>\n",
       "    </tr>\n",
       "    <tr>\n",
       "      <th>grc</th>\n",
       "      <td>3.963537</td>\n",
       "      <td>2.499063</td>\n",
       "    </tr>\n",
       "    <tr>\n",
       "      <th>grc97</th>\n",
       "      <td>3.705372</td>\n",
       "      <td>2.572387</td>\n",
       "    </tr>\n",
       "    <tr>\n",
       "      <th>hohage</th>\n",
       "      <td>44.436717</td>\n",
       "      <td>11.620372</td>\n",
       "    </tr>\n",
       "    <tr>\n",
       "      <th>hohedu</th>\n",
       "      <td>2.768104</td>\n",
       "      <td>2.656106</td>\n",
       "    </tr>\n",
       "    <tr>\n",
       "      <th>hohsex</th>\n",
       "      <td>0.925185</td>\n",
       "      <td>0.263095</td>\n",
       "    </tr>\n",
       "    <tr>\n",
       "      <th>hohwag</th>\n",
       "      <td>586.985312</td>\n",
       "      <td>788.133664</td>\n",
       "    </tr>\n",
       "    <tr>\n",
       "      <th>indig</th>\n",
       "      <td>0.298324</td>\n",
       "      <td>0.457525</td>\n",
       "    </tr>\n",
       "    <tr>\n",
       "      <th>min_dist</th>\n",
       "      <td>103.447520</td>\n",
       "      <td>42.089441</td>\n",
       "    </tr>\n",
       "    <tr>\n",
       "      <th>poor</th>\n",
       "      <td>0.846498</td>\n",
       "      <td>0.360473</td>\n",
       "    </tr>\n",
       "    <tr>\n",
       "      <th>progresa</th>\n",
       "      <td>0.615663</td>\n",
       "      <td>0.486441</td>\n",
       "    </tr>\n",
       "    <tr>\n",
       "      <th>sc</th>\n",
       "      <td>0.819818</td>\n",
       "      <td>0.384342</td>\n",
       "    </tr>\n",
       "    <tr>\n",
       "      <th>sc97</th>\n",
       "      <td>0.813922</td>\n",
       "      <td>0.389172</td>\n",
       "    </tr>\n",
       "    <tr>\n",
       "      <th>sex</th>\n",
       "      <td>0.512211</td>\n",
       "      <td>0.499854</td>\n",
       "    </tr>\n",
       "    <tr>\n",
       "      <th>welfare_index</th>\n",
       "      <td>690.346564</td>\n",
       "      <td>139.491130</td>\n",
       "    </tr>\n",
       "  </tbody>\n",
       "</table>\n",
       "</div>"
      ],
      "text/plain": [
       "                     mean  standard deviation\n",
       "age             11.366460            3.167744\n",
       "dist_cap       147.674452           76.063134\n",
       "dist_sec         2.418910            2.234109\n",
       "fam_n            7.215715            2.352900\n",
       "grc              3.963537            2.499063\n",
       "grc97            3.705372            2.572387\n",
       "hohage          44.436717           11.620372\n",
       "hohedu           2.768104            2.656106\n",
       "hohsex           0.925185            0.263095\n",
       "hohwag         586.985312          788.133664\n",
       "indig            0.298324            0.457525\n",
       "min_dist       103.447520           42.089441\n",
       "poor             0.846498            0.360473\n",
       "progresa         0.615663            0.486441\n",
       "sc               0.819818            0.384342\n",
       "sc97             0.813922            0.389172\n",
       "sex              0.512211            0.499854\n",
       "welfare_index  690.346564          139.491130"
      ]
     },
     "execution_count": 1,
     "metadata": {},
     "output_type": "execute_result"
    }
   ],
   "source": [
    "import pandas as pd\n",
    "import numpy as np\n",
    "import scipy as sp\n",
    "import sklearn\n",
    "import matplotlib.pyplot as plt \n",
    "%matplotlib inline\n",
    "\n",
    "df = pd.read_csv('progresa_sample.csv')\n",
    "df2 = df.drop(['year','folnum','village'], axis = 1)\n",
    "df2 = df2.reindex(sorted(df2.columns),axis = 1)\n",
    "df2.poor.iloc[:][df2['poor'] == 'no pobre'] = 0\n",
    "df2.poor.iloc[:][df2['poor'] == 'pobre'] = 1\n",
    "df2.progresa.iloc[:][df2['progresa'] == '0'] = 0\n",
    "df2.progresa.iloc[:][df2['progresa'] == 'basal'] = 1\n",
    "\n",
    "summary = pd.DataFrame(index = df2.columns, columns = ['mean','standard deviation'])\n",
    "summary['mean'] = df2.mean()\n",
    "summary['standard deviation'] = df2.std()\n",
    "summary"
   ]
  },
  {
   "cell_type": "markdown",
   "metadata": {},
   "source": [
    "### 1.2 Differences at baseline?\n",
    "\n",
    "Are the baseline (1997) demographic characteristics **for the poor**  different in treatment and control villages? Hint: Use a T-Test to determine whether there is a statistically significant difference in the average values of each of the variables in the dataset. Focus only on the data from 1997 for individuals who are poor (i.e., poor=='pobre').\n",
    "\n",
    "Present your results in a single table with the following columns and 14 (or so) rows (alphabetized by variable name):\n",
    "\n",
    "| Variable name | Average value (Treatment villages) | Average value (Control villages) | Difference (Treat - Control) | p-value |\n",
    "|------|------|------|------|------|\n",
    "|Male|?|?|?|?|\n"
   ]
  },
  {
   "cell_type": "code",
   "execution_count": 2,
   "metadata": {},
   "outputs": [
    {
     "data": {
      "text/html": [
       "<div>\n",
       "<style scoped>\n",
       "    .dataframe tbody tr th:only-of-type {\n",
       "        vertical-align: middle;\n",
       "    }\n",
       "\n",
       "    .dataframe tbody tr th {\n",
       "        vertical-align: top;\n",
       "    }\n",
       "\n",
       "    .dataframe thead th {\n",
       "        text-align: right;\n",
       "    }\n",
       "</style>\n",
       "<table border=\"1\" class=\"dataframe\">\n",
       "  <thead>\n",
       "    <tr style=\"text-align: right;\">\n",
       "      <th></th>\n",
       "      <th>Average Value (Treatment Villages)</th>\n",
       "      <th>Average Value (Control Villages)</th>\n",
       "      <th>Difference (Treat - Control)</th>\n",
       "      <th>p-value</th>\n",
       "    </tr>\n",
       "    <tr>\n",
       "      <th>Variable Name</th>\n",
       "      <th></th>\n",
       "      <th></th>\n",
       "      <th></th>\n",
       "      <th></th>\n",
       "    </tr>\n",
       "  </thead>\n",
       "  <tbody>\n",
       "    <tr>\n",
       "      <th>age</th>\n",
       "      <td>10.743825</td>\n",
       "      <td>10.785586</td>\n",
       "      <td>-0.041761</td>\n",
       "      <td>2.474077e-01</td>\n",
       "    </tr>\n",
       "    <tr>\n",
       "      <th>dist_cap</th>\n",
       "      <td>151.801472</td>\n",
       "      <td>154.492095</td>\n",
       "      <td>-2.690622</td>\n",
       "      <td>4.361914e-03</td>\n",
       "    </tr>\n",
       "    <tr>\n",
       "      <th>dist_sec</th>\n",
       "      <td>2.399648</td>\n",
       "      <td>2.400687</td>\n",
       "      <td>-0.001039</td>\n",
       "      <td>9.680703e-01</td>\n",
       "    </tr>\n",
       "    <tr>\n",
       "      <th>fam_n</th>\n",
       "      <td>7.281032</td>\n",
       "      <td>7.302939</td>\n",
       "      <td>-0.021907</td>\n",
       "      <td>4.260542e-01</td>\n",
       "    </tr>\n",
       "    <tr>\n",
       "      <th>grc</th>\n",
       "      <td>3.709214</td>\n",
       "      <td>3.733653</td>\n",
       "      <td>-0.024439</td>\n",
       "      <td>3.955066e-01</td>\n",
       "    </tr>\n",
       "    <tr>\n",
       "      <th>grc97</th>\n",
       "      <td>3.709214</td>\n",
       "      <td>3.733653</td>\n",
       "      <td>-0.024439</td>\n",
       "      <td>3.955066e-01</td>\n",
       "    </tr>\n",
       "    <tr>\n",
       "      <th>hohage</th>\n",
       "      <td>43.631234</td>\n",
       "      <td>44.270717</td>\n",
       "      <td>-0.639483</td>\n",
       "      <td>2.387419e-06</td>\n",
       "    </tr>\n",
       "    <tr>\n",
       "      <th>hohedu</th>\n",
       "      <td>2.726729</td>\n",
       "      <td>2.660982</td>\n",
       "      <td>0.065747</td>\n",
       "      <td>2.495527e-02</td>\n",
       "    </tr>\n",
       "    <tr>\n",
       "      <th>hohsex</th>\n",
       "      <td>0.925586</td>\n",
       "      <td>0.923387</td>\n",
       "      <td>0.002199</td>\n",
       "      <td>4.795421e-01</td>\n",
       "    </tr>\n",
       "    <tr>\n",
       "      <th>hohwag</th>\n",
       "      <td>550.207086</td>\n",
       "      <td>580.694452</td>\n",
       "      <td>-30.487366</td>\n",
       "      <td>2.851315e-04</td>\n",
       "    </tr>\n",
       "    <tr>\n",
       "      <th>indig</th>\n",
       "      <td>0.316744</td>\n",
       "      <td>0.325306</td>\n",
       "      <td>-0.008562</td>\n",
       "      <td>1.190039e-01</td>\n",
       "    </tr>\n",
       "    <tr>\n",
       "      <th>min_dist</th>\n",
       "      <td>107.395231</td>\n",
       "      <td>103.098348</td>\n",
       "      <td>4.296884</td>\n",
       "      <td>6.942943e-18</td>\n",
       "    </tr>\n",
       "    <tr>\n",
       "      <th>sc</th>\n",
       "      <td>0.822697</td>\n",
       "      <td>0.815066</td>\n",
       "      <td>0.007631</td>\n",
       "      <td>9.246651e-02</td>\n",
       "    </tr>\n",
       "    <tr>\n",
       "      <th>sc97</th>\n",
       "      <td>0.822697</td>\n",
       "      <td>0.815066</td>\n",
       "      <td>0.007631</td>\n",
       "      <td>9.246651e-02</td>\n",
       "    </tr>\n",
       "    <tr>\n",
       "      <th>sex</th>\n",
       "      <td>0.520268</td>\n",
       "      <td>0.506556</td>\n",
       "      <td>0.013713</td>\n",
       "      <td>1.959334e-02</td>\n",
       "    </tr>\n",
       "    <tr>\n",
       "      <th>welfare_index</th>\n",
       "      <td>656.810476</td>\n",
       "      <td>661.593513</td>\n",
       "      <td>-4.783037</td>\n",
       "      <td>4.048112e-04</td>\n",
       "    </tr>\n",
       "  </tbody>\n",
       "</table>\n",
       "</div>"
      ],
      "text/plain": [
       "               Average Value (Treatment Villages)  \\\n",
       "Variable Name                                       \n",
       "age                                     10.743825   \n",
       "dist_cap                               151.801472   \n",
       "dist_sec                                 2.399648   \n",
       "fam_n                                    7.281032   \n",
       "grc                                      3.709214   \n",
       "grc97                                    3.709214   \n",
       "hohage                                  43.631234   \n",
       "hohedu                                   2.726729   \n",
       "hohsex                                   0.925586   \n",
       "hohwag                                 550.207086   \n",
       "indig                                    0.316744   \n",
       "min_dist                               107.395231   \n",
       "sc                                       0.822697   \n",
       "sc97                                     0.822697   \n",
       "sex                                      0.520268   \n",
       "welfare_index                          656.810476   \n",
       "\n",
       "               Average Value (Control Villages)  Difference (Treat - Control)  \\\n",
       "Variable Name                                                                   \n",
       "age                                   10.785586                     -0.041761   \n",
       "dist_cap                             154.492095                     -2.690622   \n",
       "dist_sec                               2.400687                     -0.001039   \n",
       "fam_n                                  7.302939                     -0.021907   \n",
       "grc                                    3.733653                     -0.024439   \n",
       "grc97                                  3.733653                     -0.024439   \n",
       "hohage                                44.270717                     -0.639483   \n",
       "hohedu                                 2.660982                      0.065747   \n",
       "hohsex                                 0.923387                      0.002199   \n",
       "hohwag                               580.694452                    -30.487366   \n",
       "indig                                  0.325306                     -0.008562   \n",
       "min_dist                             103.098348                      4.296884   \n",
       "sc                                     0.815066                      0.007631   \n",
       "sc97                                   0.815066                      0.007631   \n",
       "sex                                    0.506556                      0.013713   \n",
       "welfare_index                        661.593513                     -4.783037   \n",
       "\n",
       "                    p-value  \n",
       "Variable Name                \n",
       "age            2.474077e-01  \n",
       "dist_cap       4.361914e-03  \n",
       "dist_sec       9.680703e-01  \n",
       "fam_n          4.260542e-01  \n",
       "grc            3.955066e-01  \n",
       "grc97          3.955066e-01  \n",
       "hohage         2.387419e-06  \n",
       "hohedu         2.495527e-02  \n",
       "hohsex         4.795421e-01  \n",
       "hohwag         2.851315e-04  \n",
       "indig          1.190039e-01  \n",
       "min_dist       6.942943e-18  \n",
       "sc             9.246651e-02  \n",
       "sc97           9.246651e-02  \n",
       "sex            1.959334e-02  \n",
       "welfare_index  4.048112e-04  "
      ]
     },
     "execution_count": 2,
     "metadata": {},
     "output_type": "execute_result"
    }
   ],
   "source": [
    "import scipy.stats\n",
    "df_treatment = df.loc[(df['poor'] == 'pobre') & (df['year']==97) & (df['progresa'] == 'basal')]\n",
    "df_control = df.loc[(df['poor'] == 'pobre') & (df['year']==97) & (df['progresa'] == '0')]\n",
    "df_treatment = df_treatment.drop(['poor','year','progresa', 'folnum', 'village'], axis = 1)\n",
    "df_control = df_control.drop(['poor','year','progresa', 'folnum', 'village'], axis = 1)\n",
    "\n",
    "df_treatment = df_treatment.dropna(axis = 0)\n",
    "df_control = df_control.dropna(axis = 0)\n",
    "df_treatment = df_treatment.reindex(sorted(df_treatment.columns), axis = 1)\n",
    "df_control = df_control.reindex(sorted(df_control.columns), axis = 1)\n",
    "\n",
    "t, p = sp.stats.ttest_ind(df_treatment, df_control, equal_var = False)\n",
    "\n",
    "header = ['Average Value (Treatment Villages)','Average Value (Control Villages)', 'Difference (Treat - Control)', 'p-value']\n",
    "treat_control = pd.DataFrame(index = df_treatment.columns, columns = header)\n",
    "treat_control.index.name = 'Variable Name'\n",
    "treat_control['Average Value (Treatment Villages)'] = df_treatment.mean()\n",
    "treat_control['Average Value (Control Villages)'] = df_control.mean()\n",
    "treat_control['Difference (Treat - Control)'] = df_treatment.mean() - df_control.mean()\n",
    "treat_control['p-value'] = p\n",
    "treat_control"
   ]
  },
  {
   "cell_type": "markdown",
   "metadata": {},
   "source": [
    "### 1.3 Interpretation\n",
    "\n",
    "* A: Are there statistically significant differences between treatment and control villages as baseline? \n",
    "* B: Why does it matter if there are differences at baseline?\n",
    "* C: What does this imply about how to measure the impact of the treatment?"
   ]
  },
  {
   "cell_type": "markdown",
   "metadata": {},
   "source": [
    "** Q1.3 : ** \n",
    "\n",
    "**A.** Assuming a conventional level of confidence level of 0.05, the p-values of certain variables indicate that there may be statistically significant differences between treatment and control villages as baseline. Specifically, these variables are: dist_cap; hohage; hohedu; hohwag; min_dist; sex; welfare_index. Since the p-values of these variables are below 0.05, we should reject the null hypothesis that these variables in the two groups (treatment and control) are similar. \n",
    "\n",
    "**B.** It is essential to note differences at baseline because it can affect post-treatment differences. In such cases, it would be erroneous to attribute post-treatment differences to the effects of treatment, since it could well have been caused by pre-treatment differences. \n",
    "\n",
    "**C.** We need to account for pre-treatment differences between the treatment and control group when measuring the impact of the treatment. One possible approach would be to conduct regression in the double-difference setting, which captures the pre-treatment differences. Assuming the underlying assumptions made in this approach are valid, we would be able to draw a causal inference and measure the impact of the treatment."
   ]
  },
  {
   "cell_type": "markdown",
   "metadata": {},
   "source": [
    "### 1.4 Graphical exploration, part 1\n",
    "\n",
    "For each level of household head education, compute the average enrollment rate in 1997. Create a scatterplot that shows this relationship. What do you notice?"
   ]
  },
  {
   "cell_type": "code",
   "execution_count": 3,
   "metadata": {},
   "outputs": [
    {
     "data": {
      "image/png": "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\n",
      "text/plain": [
       "<matplotlib.figure.Figure at 0x1e7b2324ef0>"
      ]
     },
     "metadata": {},
     "output_type": "display_data"
    }
   ],
   "source": [
    "import seaborn as sns\n",
    "plt.rcParams['figure.figsize'] = (12,6)\n",
    "\n",
    "df3 = df.loc[(df['year']==97)] # 1997 data\n",
    "df3 = df3[['hohedu', 'sc']].dropna(axis = 0) # enrollment rate in 1997 \n",
    "df3 = df3.groupby('hohedu').mean()\n",
    "ax = plt.scatter(df3.index, df3['sc'])\n",
    "plt.xlabel('Years of Schooling of Head of Household', fontsize = 14)\n",
    "plt.ylabel('Average Enrollment Rate in 1997', fontsize = 14)\n",
    "plt.title('Scatter Plot of Average 1997 Enrollment Rate and Household Head Education', fontsize = 14)\n",
    "sns.despine()"
   ]
  },
  {
   "cell_type": "markdown",
   "metadata": {},
   "source": [
    "**Q1.4 :**\n",
    "\n",
    "There is a general upward-sloping trend between average enrollment rates in 1997 and number of years of schooling of head of household. It appears that the more educated the head of household is, the more likely the child from the family will be enrolled in 1997. \n",
    "\n",
    "The outlier of this trend occurs when Years of schooling of head of household = 20, giving an Average 1997 enrollment rate of 0.5. It must be noted, however, that the sample size (only 2) is too small for the average enrollment rate to be representative."
   ]
  },
  {
   "cell_type": "markdown",
   "metadata": {},
   "source": [
    "### 1.5 Graphical exploration, part 2\n",
    "\n",
    "Visualize the distribution of village enrollment rates **among poor households in treated villages**, before and after treatment. Specifically, for each village, calculate the average rate of enrollment of poor households in treated villages in 1997, then compute the average rate of enrollment of poor households in treated villages in 1998. Create two separate histograms showing the distribution of these average enrollments rates, one histogram for 1997 and one histogram for 1998. On each histogram, draw a vertical line that intersects the x-axis at the average value (across all households). Does there appear to be a difference? Is this difference statistically significant?"
   ]
  },
  {
   "cell_type": "code",
   "execution_count": 4,
   "metadata": {},
   "outputs": [
    {
     "name": "stdout",
     "output_type": "stream",
     "text": [
      "Average 1997 Enrollment Rate : 0.8138394110596501\n",
      "Average 1998 Enrollment Rate : 0.8295362042630732\n",
      "\n",
      "p-value : 0.044249343422588405\n"
     ]
    },
    {
     "data": {
      "image/png": "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\n",
      "text/plain": [
       "<matplotlib.figure.Figure at 0x1e7af0a7fd0>"
      ]
     },
     "metadata": {},
     "output_type": "display_data"
    },
    {
     "data": {
      "image/png": "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\n",
      "text/plain": [
       "<matplotlib.figure.Figure at 0x1e7aeed0630>"
      ]
     },
     "metadata": {},
     "output_type": "display_data"
    }
   ],
   "source": [
    "df_before = df.loc[(df['poor'] == 'pobre') & (df['year']==97) & (df['progresa'] == 'basal')]\n",
    "df_after = df.loc[(df['poor'] == 'pobre') & (df['year']==98) & (df['progresa'] == 'basal')]\n",
    "\n",
    "df_before = df_before[['village','sc']].dropna(axis = 0)\n",
    "df_after = df_after[['village','sc']].dropna(axis = 0)\n",
    "df_before = df_before.groupby('village').mean()\n",
    "df_after = df_after.groupby('village').mean()\n",
    "\n",
    "# fig = plt.figure(figsize = (20,10))\n",
    "# print('Average 1997 Enrollment Rate :', df_before['sc'].mean())\n",
    "# ax1 = fig.add_subplot(1,2,1)\n",
    "# ax1.hist(df_before['sc'], color = 'green', bins = 30, align = 'mid')\n",
    "# ax1.set_xlabel('Average Rate of Enrollment Before Treatment')\n",
    "# ax1.set_ylabel('Number of Villages')\n",
    "# ax1.set_title('Histogram of Average Rate of Enrollment in Poor Households in 1997')\n",
    "# ax1.axvline(42.5 * (df_before.mean()-df_before.min())/(df_before.max()-df_before.min()), color='red', linestyle='dashed', linewidth=3)\n",
    "\n",
    "plt.figure(figsize = (16,8))\n",
    "print('Average 1997 Enrollment Rate :', df_before['sc'].mean())\n",
    "ax=plt.hist(df_before['sc'], color = 'green', bins = 30, range = (0.4, 1))\n",
    "plt.xlabel('Average Rate of Enrollment Before Treatment', fontsize = 18)\n",
    "plt.ylabel('Number of Villages', fontsize = 18)\n",
    "plt.title('Histogram of Average Rate of Enrollment in Poor Households in 1997', fontsize = 18)\n",
    "plt.axvline(df_before['sc'].mean(),color='red', linestyle='dashed', linewidth=3)\n",
    "\n",
    "plt.figure(figsize = (16,8))\n",
    "print('Average 1998 Enrollment Rate :', df_after['sc'].mean())\n",
    "ax=plt.hist(df_after['sc'], color = 'blue', bins = 30)\n",
    "plt.xlabel('Average Rate of Enrollment After Treatment', fontsize = 18)\n",
    "plt.ylabel('Number of Villages', fontsize = 18)\n",
    "plt.title('Histogram of Average Rate of Enrollment in Poor Households in 1998', fontsize = 18)\n",
    "plt.axvline(df_after['sc'].mean(),color='red', linestyle='dashed', linewidth=3)\n",
    "\n",
    "print()\n",
    "t, p = sp.stats.ttest_ind(df_before['sc'], df_after['sc'], equal_var = False)\n",
    "print('p-value :', p)"
   ]
  },
  {
   "cell_type": "markdown",
   "metadata": {},
   "source": [
    "**Q1.5 :** \n",
    "\n",
    "Comparing the average enrollment rates in 1997 and 1998 (red vertical lines) indicates that there is a slight increase in enrollment rates from 1997 to 1998. This difference, however, cannot be easily identified by visually analyzing the histograms. Similarly, the statistical significance of this difference cannot be verified by merely observing these histograms. \n",
    "\n",
    "Conducting a t-test between the enrollment rates in 1997 and 1998 reveals a p-value of approximately 0.0442, which is below the conventional confidence level of 0.05. This means that the null hypothesis can be rejected, and that there is indeed a difference between enrollment rates in 1997 and 1998. "
   ]
  },
  {
   "cell_type": "markdown",
   "metadata": {},
   "source": [
    "## Part 2: Measuring Impact\n",
    "\n",
    "Our goal is to estimate the causal impact of the PROGRESA program on the social and economic outcomes of individuals in Mexico. We will focus on the impact of the program on the poor (those with poor=='pobre'), since only the poor were eligible to receive the PROGRESA assistance.\n",
    "\n",
    "### 2.1 Simple differences: T-test\n",
    "\n",
    "Begin by estimating the impact of Progresa using \"simple differences.\" Restricting yourself to data from 1998 (after treatment), calculate the average enrollment rate among **poor** households in the Treatment villages and the average enrollment rate among **poor** households in the control villages. Use a t-test to determine if this difference is statistically significant. What do you conclude?"
   ]
  },
  {
   "cell_type": "code",
   "execution_count": 5,
   "metadata": {},
   "outputs": [
    {
     "name": "stdout",
     "output_type": "stream",
     "text": [
      "Average Enrollment Rate in Poor Households (Treatment Villages) : 0.8464791213954308\n",
      "Average Enrollment Rate in Poor Households (Control Villages) : 0.807636956730308\n",
      "Simple Difference Estimate (Treated - Control) : 0.0388421646651228\n",
      "t_test_ind: t-statistic = 8.18148, p-value = 2.96551e-16\n"
     ]
    }
   ],
   "source": [
    "df2_treatment = df.loc[(df['poor'] == 'pobre') & (df['year']==98) & (df['progresa'] == 'basal')]\n",
    "df2_control = df.loc[(df['poor'] == 'pobre') & (df['year']==98) & (df['progresa'] == '0')]\n",
    "df2_treatment = df2_treatment['sc'].dropna(axis = 0)\n",
    "df2_control = df2_control['sc'].dropna(axis = 0)\n",
    "\n",
    "t, p = sp.stats.ttest_ind(df2_treatment, df2_control, equal_var = False)\n",
    "print('Average Enrollment Rate in Poor Households (Treatment Villages) :', df2_treatment.mean())\n",
    "print('Average Enrollment Rate in Poor Households (Control Villages) :', df2_control.mean())\n",
    "print('Simple Difference Estimate (Treated - Control) :', df2_treatment.mean() - df2_control.mean())\n",
    "print('t_test_ind: t-statistic = %g, p-value = %g' %(t,p))"
   ]
  },
  {
   "cell_type": "markdown",
   "metadata": {},
   "source": [
    "**Q2.1 :** \n",
    "\n",
    "The average 1998 enrollment rate in poor households is approximately 0.808 for the control villages, and roughly 0.846 for the treatment villages. Taking the conventional confidence level of 0.05, our small p-value of 2.97e-16 indicates that the difference between the two groups are statistically significant. Consequently, the simple difference test concludes that the PROGRESA problem has the effect of increasing enrollment rates. "
   ]
  },
  {
   "cell_type": "markdown",
   "metadata": {},
   "source": [
    "### 2.2 Simple differences: Regression\n",
    "\n",
    "Estimate the effects of Progresa on enrollment using a regression model, by regressing the 1998 enrollment rates **of the poor** on treatment assignment. For now, do not include any other variables in your regression. Discuss the following:\n",
    "\n",
    "* Based on this model, how much did Progresa increase or decrease the likelihood of a child enrolling? Make sure you express you answer in a sentence that your grandmother could understand, using appropriate units.\n",
    "* How does your regression estimate compare to your t-test estimate from part 2.1?\n",
    "* Based on this regression model, can we reject the null hypothesis that the treatment effects are zero? \n",
    "* What is the counterfactual assumption underlying this regression?"
   ]
  },
  {
   "cell_type": "code",
   "execution_count": 6,
   "metadata": {},
   "outputs": [
    {
     "name": "stderr",
     "output_type": "stream",
     "text": [
      "D:\\Users\\Jonathan\\Anaconda3\\lib\\site-packages\\statsmodels\\compat\\pandas.py:56: FutureWarning: The pandas.core.datetools module is deprecated and will be removed in a future version. Please use the pandas.tseries module instead.\n",
      "  from pandas.core import datetools\n"
     ]
    },
    {
     "name": "stdout",
     "output_type": "stream",
     "text": [
      "                            OLS Regression Results                            \n",
      "==============================================================================\n",
      "Dep. Variable:                     sc   R-squared:                       0.003\n",
      "Model:                            OLS   Adj. R-squared:                  0.002\n",
      "Method:                 Least Squares   F-statistic:                     65.64\n",
      "Date:                Mon, 17 Sep 2018   Prob (F-statistic):           5.66e-16\n",
      "Time:                        20:59:31   Log-Likelihood:                -11171.\n",
      "No. Observations:               26155   AIC:                         2.235e+04\n",
      "Df Residuals:                   26153   BIC:                         2.236e+04\n",
      "Df Model:                           1                                         \n",
      "Covariance Type:            nonrobust                                         \n",
      "=================================================================================\n",
      "                    coef    std err          t      P>|t|      [0.025      0.975]\n",
      "---------------------------------------------------------------------------------\n",
      "Intercept         0.8109      0.004    217.190      0.000       0.804       0.818\n",
      "progresa[T.1]     0.0383      0.005      8.102      0.000       0.029       0.048\n",
      "==============================================================================\n",
      "Omnibus:                     7487.800   Durbin-Watson:                   1.734\n",
      "Prob(Omnibus):                  0.000   Jarque-Bera (JB):            15756.374\n",
      "Skew:                          -1.796   Prob(JB):                         0.00\n",
      "Kurtosis:                       4.245   Cond. No.                         3.02\n",
      "==============================================================================\n",
      "\n",
      "Warnings:\n",
      "[1] Standard Errors assume that the covariance matrix of the errors is correctly specified.\n"
     ]
    }
   ],
   "source": [
    "import statsmodels.api as sm\n",
    "import statsmodels.formula.api as smf\n",
    "\n",
    "df3 = df.loc[(df['poor'] == 'pobre') & (df['year']==98)]\n",
    "df3 = df3.dropna(axis = 0)\n",
    "df3.progresa.iloc[:][df3['progresa'] == '0'] = 0\n",
    "df3.progresa.iloc[:][df3['progresa'] == 'basal'] = 1\n",
    "lin_model = smf.ols(formula = 'sc ~ progresa', data = df3).fit()\n",
    "print(lin_model.summary())"
   ]
  },
  {
   "cell_type": "markdown",
   "metadata": {},
   "source": [
    "**Q 2.2 :**\n",
    "\n",
    "**a)** According to the linear regression model, the relationship between the likelihood of a child enrolling and treatment assignment is given by \n",
    "\n",
    "$$ Y_i = 0.8109 + 0.0383 * T_i $$\n",
    "\n",
    "where $Y_i$ refers to the likelihood of enrollment and $T_i$ refers to treatment assignment (1 if in PROGRESA program, 0 otherwise).\n",
    "\n",
    "This means that approximately 81 out of 100 children (poor) _not_ in the PROGRESA program enrolled in 1998, while approximately 85 out of 100 children (poor) in the PROGRESA program enrolled in 1998. In other words, being in the program constituted an approximately 4% higher chance of enrollment in 1998. \n",
    "\n",
    "**b)** The regression estimate of 0.0383 is very similar to the simple difference t-test estimate of 0.0388. \n",
    "\n",
    "**c)** Based on this regression model, we _can_ reject the null hypothesis that the treatment effects are zero. Assuming the conventional confidence level of 0.05, and noting that the p-value of the 'progresa' variable is very close to zero, we can conclude that the PROGRESA program does have an effect on enrollment rates. \n",
    "\n",
    "**d)** The counterfactual assumption underlying this linear regression model is that outcomes in the treatment and control groups would have been the same in the absence of treatment (being in the PROGRESA program). Only with this key assumption can we draw a causal inference. \n"
   ]
  },
  {
   "cell_type": "markdown",
   "metadata": {},
   "source": [
    "### 2.3 Multiple Regression\n",
    "\n",
    "Re-run the above regression estimated but this time include a set of control variables. Include, for instance, age, distance to a secondary school, gender, education of household head, welfare index, indigenous, etc.\n",
    "\n",
    "* How do the controls affect the point estimate of treatment effect?\n",
    "* How do the controls affect the standard error on the treatment effect? \n",
    "* How do you interpret the differences (or similarities) between your estimates of 2.2 and 2.3?"
   ]
  },
  {
   "cell_type": "code",
   "execution_count": 7,
   "metadata": {},
   "outputs": [
    {
     "name": "stdout",
     "output_type": "stream",
     "text": [
      "                            OLS Regression Results                            \n",
      "==============================================================================\n",
      "Dep. Variable:                     sc   R-squared:                       0.424\n",
      "Model:                            OLS   Adj. R-squared:                  0.423\n",
      "Method:                 Least Squares   F-statistic:                     961.1\n",
      "Date:                Mon, 17 Sep 2018   Prob (F-statistic):               0.00\n",
      "Time:                        20:59:37   Log-Likelihood:                -3994.5\n",
      "No. Observations:               26155   AIC:                             8031.\n",
      "Df Residuals:                   26134   BIC:                             8203.\n",
      "Df Model:                          20                                         \n",
      "Covariance Type:            nonrobust                                         \n",
      "==================================================================================\n",
      "                     coef    std err          t      P>|t|      [0.025      0.975]\n",
      "----------------------------------------------------------------------------------\n",
      "Intercept          1.6052      0.020     81.890      0.000       1.567       1.644\n",
      "progresa[T.1]      0.0295      0.004      8.181      0.000       0.022       0.037\n",
      "C(grc)[T.1.0]      0.0187      0.013      1.471      0.141      -0.006       0.044\n",
      "C(grc)[T.2.0]      0.1057      0.013      8.332      0.000       0.081       0.131\n",
      "C(grc)[T.3.0]      0.1885      0.013     14.535      0.000       0.163       0.214\n",
      "C(grc)[T.4.0]      0.2680      0.013     20.056      0.000       0.242       0.294\n",
      "C(grc)[T.5.0]      0.3515      0.014     25.478      0.000       0.324       0.379\n",
      "C(grc)[T.6.0]      0.0705      0.014      4.917      0.000       0.042       0.099\n",
      "C(grc)[T.7.0]      0.5221      0.016     33.464      0.000       0.492       0.553\n",
      "C(grc)[T.8.0]      0.5915      0.016     36.023      0.000       0.559       0.624\n",
      "C(grc)[T.9.0]      0.1451      0.018      8.269      0.000       0.111       0.179\n",
      "C(grc)[T.10.0]     0.6490      0.034     18.952      0.000       0.582       0.716\n",
      "C(grc)[T.11.0]     0.8077      0.068     11.813      0.000       0.674       0.942\n",
      "sex                0.0241      0.003      6.896      0.000       0.017       0.031\n",
      "indig              0.0458      0.004     12.139      0.000       0.038       0.053\n",
      "dist_sec          -0.0054      0.001     -6.426      0.000      -0.007      -0.004\n",
      "hohedu             0.0039      0.001      5.491      0.000       0.003       0.005\n",
      "hohwag         -3.349e-06   2.52e-06     -1.330      0.183   -8.28e-06    1.59e-06\n",
      "hohsex             0.0109      0.007      1.583      0.113      -0.003       0.024\n",
      "welfare_index  -1.121e-05   1.56e-05     -0.720      0.472   -4.17e-05    1.93e-05\n",
      "age               -0.0896      0.001    -77.118      0.000      -0.092      -0.087\n",
      "==============================================================================\n",
      "Omnibus:                     2044.487   Durbin-Watson:                   1.748\n",
      "Prob(Omnibus):                  0.000   Jarque-Bera (JB):             3660.955\n",
      "Skew:                          -0.568   Prob(JB):                         0.00\n",
      "Kurtosis:                       4.438   Cond. No.                     4.08e+04\n",
      "==============================================================================\n",
      "\n",
      "Warnings:\n",
      "[1] Standard Errors assume that the covariance matrix of the errors is correctly specified.\n",
      "[2] The condition number is large, 4.08e+04. This might indicate that there are\n",
      "strong multicollinearity or other numerical problems.\n"
     ]
    }
   ],
   "source": [
    "multr_model = smf.ols(formula = 'sc ~ progresa + sex + C(grc) + indig + dist_sec + hohedu + hohwag + hohsex + welfare_index + age', data = df3).fit()\n",
    "print(multr_model.summary())"
   ]
  },
  {
   "cell_type": "markdown",
   "metadata": {},
   "source": [
    "** Q 2.3 :** \n",
    "\n",
    "**a)** Adding a set of control variables decreased the point estimate of the treatment effect. This is expected since some of the control variables do explain variations in the likelihood of a child enrolling, and therefore the weight associated with the treatment assignment variable (being in the PROGRESA program) is decreased.\n",
    "\n",
    "**b)** Adding a set of control variables decreased the standard error of the treatment effect from 0.005 in the linear regression model to 0.004 in the multilinear regression model. \n",
    "\n",
    "**c)** In a fully randomized experiment, the correlations between the treatment assignment variable and other control variables should be zero. If this is true, then the point estimates of the treatment effect in the linear model and multilinear model should be statistically equivalent. However, in this case, there is non-zero correlation between the treatment assignment variable and control variables, leading to a change in point estimate of the treatment effect (changedfrom 0.0383 to 0.0295). \n",
    "\n",
    "The standard error of the treatment effect is reduced due to the addition of control variables which explain some of the variation in the likelihood of a child enrolling. While this effect is reduced if there is correlations between the treatment assignment variable and control variables, we note that these correlation values are relatively small."
   ]
  },
  {
   "cell_type": "markdown",
   "metadata": {},
   "source": [
    "### 2.4 Difference-in-Difference, version 1 (tabular)\n",
    "\n",
    "Thus far, we have computed the effects of Progresa by estimating the difference in 1998 enrollment rates across villages. An alternative approach would be to compute the treatment effect using a difference-in-differences framework.\n",
    "\n",
    "Begin by estimating the average treatment effects of the program for poor households using data from 1997 and 1998. Specifically, calculate the difference (between 1997 and 1998) in enrollment rates among poor households in treated villages; then compute the difference (between 1997 and 1998) in enrollment rates among poor households in control villages. The difference between these two differences is your estimate.\n",
    "\n",
    "* What is your estimate of the impact, and how does it compare to your earlier (simple difference) results?\n",
    "* What is the counterfactual assumption underlying this estimate? \n"
   ]
  },
  {
   "cell_type": "code",
   "execution_count": 7,
   "metadata": {
    "scrolled": true
   },
   "outputs": [
    {
     "data": {
      "text/plain": [
       "pandas.core.series.Series"
      ]
     },
     "execution_count": 7,
     "metadata": {},
     "output_type": "execute_result"
    }
   ],
   "source": [
    "type(df['poor'] == 'pobre')"
   ]
  },
  {
   "cell_type": "code",
   "execution_count": 8,
   "metadata": {},
   "outputs": [
    {
     "name": "stdout",
     "output_type": "stream",
     "text": [
      "Average Enrollment Rate Among Poor Households in Control (1997): 0.8151860030575845\n",
      "Average Enrollment Rate Among Poor Households in Control (1998): 0.807636956730308\n",
      "Increase in Average Enrollment Rate in Control: -0.007549046327276487\n",
      "\n",
      "Average Enrollment Rate Among Poor Households in Treated (1997): 0.8226968874033842\n",
      "Average Enrollment Rate Among Poor Households in Treated (1998): 0.8464791213954308\n",
      "Increase in Average Enrollment Rate in Treated: 0.023782233992046597\n",
      "\n",
      "Difference-in-Difference Estimate (Treated - Control): 0.031331280319323085\n"
     ]
    }
   ],
   "source": [
    "control_97 = df.loc[(df['poor'] == 'pobre') & (df['year']==97) & (df['progresa'] == '0')]\n",
    "control_98 = df.loc[(df['poor'] == 'pobre') & (df['year']==98) & (df['progresa'] == '0')]\n",
    "print('Average Enrollment Rate Among Poor Households in Control (1997):', control_97['sc'].mean())\n",
    "print('Average Enrollment Rate Among Poor Households in Control (1998):', control_98['sc'].mean())\n",
    "control_diff = control_98['sc'].mean() - control_97['sc'].mean()\n",
    "print('Increase in Average Enrollment Rate in Control:', control_diff)\n",
    "print()\n",
    "treated_97 = df.loc[(df['poor'] == 'pobre') & (df['year']==97) & (df['progresa'] == 'basal')]\n",
    "treated_98 = df.loc[(df['poor'] == 'pobre') & (df['year']==98) & (df['progresa'] == 'basal')]\n",
    "print('Average Enrollment Rate Among Poor Households in Treated (1997):', treated_97['sc'].mean())\n",
    "print('Average Enrollment Rate Among Poor Households in Treated (1998):', treated_98['sc'].mean())\n",
    "treated_diff = treated_98['sc'].mean() - treated_97['sc'].mean()\n",
    "print('Increase in Average Enrollment Rate in Treated:', treated_diff)\n",
    "print()\n",
    "print('Difference-in-Difference Estimate (Treated - Control):', treated_diff - control_diff)"
   ]
  },
  {
   "cell_type": "markdown",
   "metadata": {},
   "source": [
    "** Q2.4 : **\n",
    "\n",
    "**a)** The difference-in-difference estimate (Treated - Control) is approximately 0.0313, while the simple difference estimate is approximately 0.0388. The difference-in-difference estimate is _lower_ because it accounts for the lower initial enrollment rate in the Control group (compared to the Treated Group) in 1997. \n",
    "\n",
    "**b)** The key counterfactual assumption of the difference-in-difference estimate is that changes in enrollment rates over time in both the treatment group and control group would have been the same in the absence of the treatment (PROGRESA implementation). It assumes that there are no differential trends. "
   ]
  },
  {
   "cell_type": "markdown",
   "metadata": {},
   "source": [
    "### 2.5 Difference-in-Difference, version 2 (regression)\n",
    "\n",
    "Now use a regression specification to estimate the average treatment effects of the program in a difference-in-differences framework. Include at least 5 control variables.\n",
    "\n",
    "* What is your estimate of the impact of Progresa? Be very specific in interpreting your coefficients and standard errors, and make sure to specify exactly what units you are measuring and estimating.\n",
    "* How do these estimates of the treatment effect compare to the estimates based on the simple difference?\n",
    "* How do these estimates compare to the difference-in-difference estimates from 2.4 above? What accounts for these differences?\n",
    "* What is the counterfactual assumption underlying this regression? "
   ]
  },
  {
   "cell_type": "code",
   "execution_count": 9,
   "metadata": {},
   "outputs": [
    {
     "name": "stdout",
     "output_type": "stream",
     "text": [
      "                            OLS Regression Results                            \n",
      "==============================================================================\n",
      "Dep. Variable:                     sc   R-squared:                       0.446\n",
      "Model:                            OLS   Adj. R-squared:                  0.446\n",
      "Method:                 Least Squares   F-statistic:                     1992.\n",
      "Date:                Mon, 17 Sep 2018   Prob (F-statistic):               0.00\n",
      "Time:                        20:59:48   Log-Likelihood:                -8649.5\n",
      "No. Observations:               56893   AIC:                         1.735e+04\n",
      "Df Residuals:                   56869   BIC:                         1.756e+04\n",
      "Df Model:                          23                                         \n",
      "Covariance Type:            nonrobust                                         \n",
      "======================================================================================\n",
      "                         coef    std err          t      P>|t|      [0.025      0.975]\n",
      "--------------------------------------------------------------------------------------\n",
      "Intercept              1.5313      0.011    135.092      0.000       1.509       1.554\n",
      "progresa[T.1]          0.0078      0.003      2.344      0.019       0.001       0.014\n",
      "C(grc)[T.1.0]          0.0716      0.006     12.073      0.000       0.060       0.083\n",
      "C(grc)[T.2.0]          0.1516      0.006     24.794      0.000       0.140       0.164\n",
      "C(grc)[T.3.0]          0.2244      0.006     34.908      0.000       0.212       0.237\n",
      "C(grc)[T.4.0]          0.3098      0.007     45.089      0.000       0.296       0.323\n",
      "C(grc)[T.5.0]          0.3872      0.007     53.051      0.000       0.373       0.402\n",
      "C(grc)[T.6.0]          0.0644      0.008      8.240      0.000       0.049       0.080\n",
      "C(grc)[T.7.0]          0.5613      0.009     62.558      0.000       0.544       0.579\n",
      "C(grc)[T.8.0]          0.6220      0.010     64.213      0.000       0.603       0.641\n",
      "C(grc)[T.9.0]          0.1528      0.011     14.375      0.000       0.132       0.174\n",
      "C(grc)[T.10.0]         0.7216      0.022     33.402      0.000       0.679       0.764\n",
      "C(grc)[T.11.0]         0.8256      0.048     17.276      0.000       0.732       0.919\n",
      "C(grc)[T.12.0]         0.2954      0.141      2.093      0.036       0.019       0.572\n",
      "year                   0.0266      0.004      6.875      0.000       0.019       0.034\n",
      "progresa[T.1]:year     0.0215      0.005      4.398      0.000       0.012       0.031\n",
      "sex                    0.0258      0.002     10.886      0.000       0.021       0.030\n",
      "indig                  0.0469      0.003     18.341      0.000       0.042       0.052\n",
      "dist_sec              -0.0045      0.001     -7.917      0.000      -0.006      -0.003\n",
      "hohedu                 0.0037      0.000      7.676      0.000       0.003       0.005\n",
      "hohwag             -5.473e-07    1.7e-06     -0.322      0.748   -3.88e-06    2.79e-06\n",
      "hohsex                 0.0030      0.005      0.656      0.512      -0.006       0.012\n",
      "welfare_index      -8.858e-06   1.06e-05     -0.838      0.402   -2.96e-05    1.18e-05\n",
      "age                   -0.0880      0.001   -115.807      0.000      -0.090      -0.087\n",
      "==============================================================================\n",
      "Omnibus:                     4489.182   Durbin-Watson:                   1.613\n",
      "Prob(Omnibus):                  0.000   Jarque-Bera (JB):             9202.835\n",
      "Skew:                          -0.532   Prob(JB):                         0.00\n",
      "Kurtosis:                       4.659   Cond. No.                     1.23e+05\n",
      "==============================================================================\n",
      "\n",
      "Warnings:\n",
      "[1] Standard Errors assume that the covariance matrix of the errors is correctly specified.\n",
      "[2] The condition number is large, 1.23e+05. This might indicate that there are\n",
      "strong multicollinearity or other numerical problems.\n"
     ]
    }
   ],
   "source": [
    "df_poor = df.loc[(df['poor'] == 'pobre')]\n",
    "df_poor.progresa.iloc[:][df_poor['progresa'] == 'basal'] = 1\n",
    "df_poor.progresa.iloc[:][df_poor['progresa'] == '0'] = 0\n",
    "df_poor.year.iloc[:][df_poor['year'] == 97] = 0\n",
    "df_poor.year.iloc[:][df_poor['year'] == 98] = 1\n",
    "df_poor = df_poor.dropna(axis = 0)\n",
    "\n",
    "did_model = smf.ols(formula = 'sc ~ progresa * year + sex + C(grc) + indig + dist_sec + hohedu + hohwag + hohsex + welfare_index + age', data = df_poor).fit()\n",
    "print(did_model.summary())"
   ]
  },
  {
   "cell_type": "markdown",
   "metadata": {},
   "source": [
    "** Q2.5 : ** \n",
    "\n",
    "**a)** According to the difference-in-difference regression, the 'Progresa term' (treatment assignment variable) $T_i$ has a coefficient of 0.0078, while the variable 'year', $X_i$, has a coefficient of 0.0266. It should be noted that the interaction term of these two variables, denoted by $(T_i * X_i)$, has a coefficient of 0.0215. The standard errors for these terms are 0.003, 0.004, and 0.005 respectively. \n",
    "\n",
    "**b)** The estimate of 0.0078 obtained from this difference-in-difference regression model is quite different from the simple difference estimate of 0.0383. This is likely because the effect of the PROGRESA program on enrollment rates has been captured in the control variable 'year', which has an estimate of 0.0266. The interaction term's estimate of 0.0215 further substantiates this notion. \n",
    "\n",
    "**c)** Likewise, the estimate of 0.0078 obtained from this regression model is different from the difference-in-difference of 0.0313 obtained in question 2.4. This is because the effect of the PROGRESA program on enrollment rates has been captured in the interaction term $(T_i * X_i)$, which has a coefficient estimate of 0.0266. \n",
    "\n",
    "**d)** The counterfactual assumption of the difference-in-difference regression is that changes in enrollment rates over time in both the treatment group and control group would have been the same in the absence of the treatment (PROGRESA implementation)."
   ]
  },
  {
   "cell_type": "markdown",
   "metadata": {},
   "source": [
    "### 2.6 Spillover effects\n",
    "\n",
    "Thus far, we have focused on the impact of PROGRESA on poor households. Repeat your analysis in 2.5, instead focusing on the impact of PROGRESA on non-poor households. \n",
    "* Do you observe any impacts of PROGRESA on the non-poor?\n",
    "* Regardless of whether you find evidence of spillovers, describe one or two reasons why PROGRESA *might* have impacted non-poor households. Give concrete examples based on the context in which PROGRESA was implemented."
   ]
  },
  {
   "cell_type": "code",
   "execution_count": 10,
   "metadata": {},
   "outputs": [
    {
     "name": "stdout",
     "output_type": "stream",
     "text": [
      "                            OLS Regression Results                            \n",
      "==============================================================================\n",
      "Dep. Variable:                     sc   R-squared:                       0.474\n",
      "Model:                            OLS   Adj. R-squared:                  0.473\n",
      "Method:                 Least Squares   F-statistic:                     367.8\n",
      "Date:                Mon, 17 Sep 2018   Prob (F-statistic):               0.00\n",
      "Time:                        20:59:49   Log-Likelihood:                -2040.7\n",
      "No. Observations:               10229   AIC:                             4133.\n",
      "Df Residuals:                   10203   BIC:                             4321.\n",
      "Df Model:                          25                                         \n",
      "Covariance Type:            nonrobust                                         \n",
      "======================================================================================\n",
      "                         coef    std err          t      P>|t|      [0.025      0.975]\n",
      "--------------------------------------------------------------------------------------\n",
      "Intercept              1.5777      0.032     49.396      0.000       1.515       1.640\n",
      "progresa[T.1]          0.0173      0.008      2.159      0.031       0.002       0.033\n",
      "C(grc)[T.1.0]          0.0726      0.018      3.973      0.000       0.037       0.108\n",
      "C(grc)[T.2.0]          0.1650      0.018      9.002      0.000       0.129       0.201\n",
      "C(grc)[T.3.0]          0.2534      0.019     13.530      0.000       0.217       0.290\n",
      "C(grc)[T.4.0]          0.3386      0.019     17.428      0.000       0.300       0.377\n",
      "C(grc)[T.5.0]          0.4359      0.020     21.694      0.000       0.397       0.475\n",
      "C(grc)[T.6.0]          0.1660      0.022      7.701      0.000       0.124       0.208\n",
      "C(grc)[T.7.0]          0.6286      0.023     27.406      0.000       0.584       0.674\n",
      "C(grc)[T.8.0]          0.6779      0.024     28.414      0.000       0.631       0.725\n",
      "C(grc)[T.9.0]          0.2517      0.025      9.945      0.000       0.202       0.301\n",
      "C(grc)[T.10.0]         0.8357      0.036     23.211      0.000       0.765       0.906\n",
      "C(grc)[T.11.0]         0.8606      0.058     14.939      0.000       0.748       0.974\n",
      "C(grc)[T.12.0]         0.5210      0.134      3.874      0.000       0.257       0.785\n",
      "C(grc)[T.13.0]         0.8085      0.297      2.723      0.006       0.226       1.391\n",
      "C(grc)[T.14.0]         0.7488      0.297      2.525      0.012       0.167       1.330\n",
      "year                   0.0284      0.009      3.024      0.002       0.010       0.047\n",
      "progresa[T.1]:year     0.0047      0.012      0.393      0.694      -0.019       0.028\n",
      "sex                    0.0307      0.006      5.237      0.000       0.019       0.042\n",
      "indig                  0.0274      0.009      3.119      0.002       0.010       0.045\n",
      "dist_sec              -0.0082      0.002     -5.327      0.000      -0.011      -0.005\n",
      "hohedu                 0.0052      0.001      5.411      0.000       0.003       0.007\n",
      "hohwag             -2.775e-06   2.69e-06     -1.033      0.301   -8.04e-06    2.49e-06\n",
      "hohsex                 0.0009      0.012      0.074      0.941      -0.022       0.024\n",
      "welfare_index       3.288e-05   2.46e-05      1.335      0.182   -1.54e-05    8.12e-05\n",
      "age                   -0.0987      0.002    -50.412      0.000      -0.102      -0.095\n",
      "==============================================================================\n",
      "Omnibus:                      334.113   Durbin-Watson:                   1.653\n",
      "Prob(Omnibus):                  0.000   Jarque-Bera (JB):              579.583\n",
      "Skew:                          -0.279   Prob(JB):                    1.40e-126\n",
      "Kurtosis:                       4.024   Cond. No.                     1.50e+05\n",
      "==============================================================================\n",
      "\n",
      "Warnings:\n",
      "[1] Standard Errors assume that the covariance matrix of the errors is correctly specified.\n",
      "[2] The condition number is large, 1.5e+05. This might indicate that there are\n",
      "strong multicollinearity or other numerical problems.\n"
     ]
    }
   ],
   "source": [
    "df_notpoor = df.loc[(df['poor'] == 'no pobre')]\n",
    "df_notpoor.progresa.iloc[:][df_notpoor['progresa'] == 'basal'] = 1\n",
    "df_notpoor.progresa.iloc[:][df_notpoor['progresa'] == '0'] = 0\n",
    "df_notpoor.year.iloc[:][df_notpoor['year'] == 97] = 0\n",
    "df_notpoor.year.iloc[:][df_notpoor['year'] == 98] = 1\n",
    "df_notpoor = df_notpoor.dropna(axis = 0)\n",
    "\n",
    "did_model = smf.ols(formula = 'sc ~ progresa * year + sex + C(grc) + indig + dist_sec + hohedu + hohwag + hohsex + welfare_index + age', data = df_notpoor).fit()\n",
    "print(did_model.summary())"
   ]
  },
  {
   "cell_type": "markdown",
   "metadata": {},
   "source": [
    "**Q 2.6 : ** \n",
    "\n",
    "**a)** It appears that the implementation of the PROGRESA program has increased enrollment rates even among those classified as 'non-poor'. This is justified by the statistically significant coefficient of 0.0173 for the 'treatment assignment' variable (Progresa). \n",
    "\n",
    "**b)** One of PROGRESA's most important roles is to raise consumption levels in poor rural households, which it did by 20-25%. The corresponding increase in consumption expenditure might have resulted in a multiplier effect within the Progresa localities, ultimately allowing businesses in the localities to grow. The subsequent increase in income of non-poor families (particularly those close to the 'poor and non-poor threshold') could have increased their ability to enroll their children in school, leading to increase in overall enrollment rates. \n"
   ]
  },
  {
   "cell_type": "markdown",
   "metadata": {},
   "source": [
    "### 2.7 Summary\n",
    "\n",
    "* Based on all the analysis you have undertaken to date, do you believe that Progresa had a causal impact on the enrollment rates of poor households in Mexico? \n",
    "* Describe one other way that you might analyze these data to further investigate the causal impact of Progresa on enrollment, and clearly state the counterfactual assumption you would need to make for that approach to be valid.  *(Hint: Consider using the non-poor in your analysis)*"
   ]
  },
  {
   "cell_type": "markdown",
   "metadata": {},
   "source": [
    "**a)** Based on all the analysis results available, I believe that the Progresa program did increase the enrollment rates of poor households in Mexico. Perhaps the most compelling evidence comes from the results of the difference-in-difference (tabular and regression) investigation. Even after accounting for the possible effects of control variables on enrollment rates, there is still a relatively large amount of weight (statistically significant) attributed to the progresa variable (and progresa-year interaction term in the regression case).  \n",
    "\n",
    "**b)** Instead of merely performing regression on poor households, it might be useful to include non-poor households in the regression models. For instance, we can perform a difference-in-difference regression on poor and non-poor households (together with various control variables) which are residing in _non-Progresa_ localities. In this case, our objective would be to verify that, barring the implementation of the Progresa program, being classified as \"poor\" and \"non-poor\" would have no significant impact on increases in enrollment rate between 1997 and 1998. Establishing this would strengthen the argument that the implementation of Progresa did indeed have a causal impact on enrollment rates. "
   ]
  }
 ],
 "metadata": {
  "anaconda-cloud": {},
  "kernelspec": {
   "display_name": "Python 3",
   "language": "python",
   "name": "python3"
  },
  "language_info": {
   "codemirror_mode": {
    "name": "ipython",
    "version": 3
   },
   "file_extension": ".py",
   "mimetype": "text/x-python",
   "name": "python",
   "nbconvert_exporter": "python",
   "pygments_lexer": "ipython3",
   "version": "3.6.4"
  }
 },
 "nbformat": 4,
 "nbformat_minor": 1
}
